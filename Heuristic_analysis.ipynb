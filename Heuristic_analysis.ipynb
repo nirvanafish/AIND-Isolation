{
 "cells": [
  {
   "cell_type": "markdown",
   "metadata": {},
   "source": [
    " # Heuristic Analysis"
   ]
  },
  {
   "cell_type": "markdown",
   "metadata": {},
   "source": [
    "## results of three custom heuristic functions\n",
    "\n",
    "I plan to adjust the weight between the move number of player and its opponent. \n",
    "- proportional metrics: Take the ratio of the player's legal move number versus that of its opponent. \n",
    "- Center metrics: Higher value if player is closer to the center. Divide the ID_improved score by the player's distance from the center. \n",
    "- distance metrics: Also weight the opponent as higher if the opponent is closer to the center. \n",
    "\n",
    "<table border=1>\n",
    "<tr><th></th><th>Random</th><th>MM_Null</th><th>MM_Open</th><th>MM_Improved</th><th>AB_Null</th><th>AB_Open</th><th>AB_Improved</th><th>Result</th></tr>\n",
    "<tr><th>ID_Improved</th><td>16</td><td>16</td><td>12</td><td>12</td><td>16</td><td>14</td><td>13</td><td>70.71%</td></tr>\n",
    "<tr><th>proportional</th><td>19</td><td>18</td><td>10</td><td>10</td><td>11</td><td>9</td><td>13</td><td>62.86%</td></tr>\n",
    "<tr><th>center</th><td>18</td><td>18</td><td>12</td><td>13</td><td>13</td><td>16</td><td>9</td><td>70.71%</td></tr>\n",
    "<tr><th>distance</th><td>19</td><td>19</td><td>16</td><td>12</td><td>11</td><td>9</td><td>9</td><td>68.57%</td></tr>\n",
    "</table>"
   ]
  },
  {
   "cell_type": "markdown",
   "metadata": {},
   "source": [
    "Compared with ID_improved function, the three heuistic functions does not achieve better success rates.   \n",
    "\n",
    "The proportional metrics take the ratio rather than substract form, which I expect to get more advantage at the end of the game, when both available move number become limited, only a subtle change can dominate the game. But as the result shows, the assumption does no better job. \n",
    "\n",
    "The center metrics takes the assumption that when the player is closer to the center, it has more freedom to transfer to different parts of the board, rather than being suppressed to the corner. So I add the weight to undermine the distance of player from center. As the result shows, it does not perform better.\n",
    "\n",
    "The distance metrics substract the weight measure of distance from center of opponent and player and does not perform better."
   ]
  },
  {
   "cell_type": "code",
   "execution_count": null,
   "metadata": {
    "collapsed": true
   },
   "outputs": [],
   "source": []
  }
 ],
 "metadata": {
  "kernelspec": {
   "display_name": "Python 2",
   "language": "python",
   "name": "python2"
  },
  "language_info": {
   "codemirror_mode": {
    "name": "ipython",
    "version": 2
   },
   "file_extension": ".py",
   "mimetype": "text/x-python",
   "name": "python",
   "nbconvert_exporter": "python",
   "pygments_lexer": "ipython2",
   "version": "2.7.12"
  }
 },
 "nbformat": 4,
 "nbformat_minor": 0
}
